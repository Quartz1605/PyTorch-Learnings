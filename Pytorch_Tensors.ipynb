{
  "nbformat": 4,
  "nbformat_minor": 0,
  "metadata": {
    "colab": {
      "provenance": []
    },
    "kernelspec": {
      "name": "python3",
      "display_name": "Python 3"
    },
    "language_info": {
      "name": "python"
    }
  },
  "cells": [
    {
      "cell_type": "code",
      "execution_count": null,
      "metadata": {
        "colab": {
          "base_uri": "https://localhost:8080/"
        },
        "id": "UaKmpvg59O1T",
        "outputId": "eb830443-6711-4dd1-9f75-c4ac2267a855"
      },
      "outputs": [
        {
          "output_type": "stream",
          "name": "stdout",
          "text": [
            "Hello pratham\n"
          ]
        }
      ],
      "source": [
        "print(\"Hello pratham\")"
      ]
    },
    {
      "cell_type": "code",
      "source": [
        "import torch\n"
      ],
      "metadata": {
        "id": "sHnZho5D9ycC"
      },
      "execution_count": null,
      "outputs": []
    },
    {
      "cell_type": "code",
      "source": [
        "print(torch.__version__)"
      ],
      "metadata": {
        "colab": {
          "base_uri": "https://localhost:8080/"
        },
        "id": "lhEAmb3SMNfa",
        "outputId": "c5dd7042-948c-41e7-f55b-f571fab649a1"
      },
      "execution_count": null,
      "outputs": [
        {
          "output_type": "stream",
          "name": "stdout",
          "text": [
            "2.6.0+cu124\n"
          ]
        }
      ]
    },
    {
      "cell_type": "markdown",
      "source": [
        "\n",
        "## Creating Tensors :\n",
        "\n",
        "\n"
      ],
      "metadata": {
        "id": "bWvK-b-OMvQj"
      }
    },
    {
      "cell_type": "code",
      "source": [
        "a = torch.empty(2,3)"
      ],
      "metadata": {
        "id": "zIW0sTcRM6Ri"
      },
      "execution_count": null,
      "outputs": []
    },
    {
      "cell_type": "code",
      "source": [
        "type(a)"
      ],
      "metadata": {
        "colab": {
          "base_uri": "https://localhost:8080/"
        },
        "id": "0xP_JkfbM_DC",
        "outputId": "4aa721f4-55e3-4434-8310-5fe902cc7b85"
      },
      "execution_count": null,
      "outputs": [
        {
          "output_type": "execute_result",
          "data": {
            "text/plain": [
              "torch.Tensor"
            ]
          },
          "metadata": {},
          "execution_count": 10
        }
      ]
    },
    {
      "cell_type": "code",
      "source": [
        "torch.zeros(2,3)"
      ],
      "metadata": {
        "colab": {
          "base_uri": "https://localhost:8080/"
        },
        "id": "aTxbbjQbNL1W",
        "outputId": "7aeeee80-c5a6-4b65-caa3-ec4b7fc28dfc"
      },
      "execution_count": null,
      "outputs": [
        {
          "output_type": "execute_result",
          "data": {
            "text/plain": [
              "tensor([[0., 0., 0.],\n",
              "        [0., 0., 0.]])"
            ]
          },
          "metadata": {},
          "execution_count": 11
        }
      ]
    },
    {
      "cell_type": "code",
      "source": [
        "torch.ones(2,3)"
      ],
      "metadata": {
        "colab": {
          "base_uri": "https://localhost:8080/"
        },
        "id": "Qmhpi03kNTWJ",
        "outputId": "b52bfdb9-0819-4f98-c1cd-16e3db861852"
      },
      "execution_count": null,
      "outputs": [
        {
          "output_type": "execute_result",
          "data": {
            "text/plain": [
              "tensor([[1., 1., 1.],\n",
              "        [1., 1., 1.]])"
            ]
          },
          "metadata": {},
          "execution_count": 12
        }
      ]
    },
    {
      "cell_type": "code",
      "source": [
        "torch.rand(2,3)"
      ],
      "metadata": {
        "colab": {
          "base_uri": "https://localhost:8080/"
        },
        "id": "44kiA6LkNZqB",
        "outputId": "38e7c549-e3e6-4008-d393-13210f45d60d"
      },
      "execution_count": null,
      "outputs": [
        {
          "output_type": "execute_result",
          "data": {
            "text/plain": [
              "tensor([[0.4833, 0.3167, 0.4782],\n",
              "        [0.1635, 0.6353, 0.3886]])"
            ]
          },
          "metadata": {},
          "execution_count": 13
        }
      ]
    },
    {
      "cell_type": "code",
      "source": [
        "torch.randint(2,8,(2,3))"
      ],
      "metadata": {
        "colab": {
          "base_uri": "https://localhost:8080/"
        },
        "id": "V-hNAqQ-NdG8",
        "outputId": "0c0257b5-52f3-497b-bbe6-b12bb37ce03a"
      },
      "execution_count": null,
      "outputs": [
        {
          "output_type": "execute_result",
          "data": {
            "text/plain": [
              "tensor([[5, 4, 6],\n",
              "        [3, 4, 7]])"
            ]
          },
          "metadata": {},
          "execution_count": 16
        }
      ]
    },
    {
      "cell_type": "code",
      "source": [
        "torch.manual_seed(100)\n",
        "torch.rand(2,3)"
      ],
      "metadata": {
        "colab": {
          "base_uri": "https://localhost:8080/"
        },
        "id": "ajkh8o-tNhJb",
        "outputId": "08268d8c-ff81-4b9b-b732-3f04e41cc741"
      },
      "execution_count": null,
      "outputs": [
        {
          "output_type": "execute_result",
          "data": {
            "text/plain": [
              "tensor([[0.1117, 0.8158, 0.2626],\n",
              "        [0.4839, 0.6765, 0.7539]])"
            ]
          },
          "metadata": {},
          "execution_count": 19
        }
      ]
    },
    {
      "cell_type": "code",
      "source": [
        "torch.tensor([[1,2,3],[4,5,6]])"
      ],
      "metadata": {
        "colab": {
          "base_uri": "https://localhost:8080/"
        },
        "id": "wt0GQsFZNxSY",
        "outputId": "563ca71c-117e-4791-93fa-832cf52ac4f3"
      },
      "execution_count": null,
      "outputs": [
        {
          "output_type": "execute_result",
          "data": {
            "text/plain": [
              "tensor([[1, 2, 3],\n",
              "        [4, 5, 6]])"
            ]
          },
          "metadata": {},
          "execution_count": 20
        }
      ]
    },
    {
      "cell_type": "code",
      "source": [
        "torch.eye(5) #For creating Identity matrix"
      ],
      "metadata": {
        "colab": {
          "base_uri": "https://localhost:8080/"
        },
        "id": "GPvVY7XVOA6t",
        "outputId": "d63e5ae0-a25b-4805-e88a-2d49cd83cd0a"
      },
      "execution_count": null,
      "outputs": [
        {
          "output_type": "execute_result",
          "data": {
            "text/plain": [
              "tensor([[1., 0., 0., 0., 0.],\n",
              "        [0., 1., 0., 0., 0.],\n",
              "        [0., 0., 1., 0., 0.],\n",
              "        [0., 0., 0., 1., 0.],\n",
              "        [0., 0., 0., 0., 1.]])"
            ]
          },
          "metadata": {},
          "execution_count": 21
        }
      ]
    },
    {
      "cell_type": "markdown",
      "source": [
        "## Tensor Shapes :"
      ],
      "metadata": {
        "id": "cQFzpKwbOXkn"
      }
    },
    {
      "cell_type": "code",
      "source": [
        "x = torch.tensor([[1,2,3],[4,5,6]])"
      ],
      "metadata": {
        "id": "d1ppChdfOswV"
      },
      "execution_count": null,
      "outputs": []
    },
    {
      "cell_type": "code",
      "source": [
        "x.shape"
      ],
      "metadata": {
        "colab": {
          "base_uri": "https://localhost:8080/"
        },
        "id": "s08Oju1OOwcA",
        "outputId": "42bd383a-a7ae-42d5-aa3b-8fad24078615"
      },
      "execution_count": null,
      "outputs": [
        {
          "output_type": "execute_result",
          "data": {
            "text/plain": [
              "torch.Size([2, 3])"
            ]
          },
          "metadata": {},
          "execution_count": 24
        }
      ]
    },
    {
      "cell_type": "code",
      "source": [
        "## Method for creating same shapes tensors from given shape\n",
        "torch.empty_like(x) # values diff but same shape as given"
      ],
      "metadata": {
        "colab": {
          "base_uri": "https://localhost:8080/"
        },
        "id": "VzdzkIiZO4fv",
        "outputId": "c5054822-cf0e-4781-e63e-4136bcfa3725"
      },
      "execution_count": null,
      "outputs": [
        {
          "output_type": "execute_result",
          "data": {
            "text/plain": [
              "tensor([[135147721825664, 135147721825664,              32],\n",
              "        [            112,          264784,              60]])"
            ]
          },
          "metadata": {},
          "execution_count": 27
        }
      ]
    },
    {
      "cell_type": "code",
      "source": [
        "torch.zeros_like(x)"
      ],
      "metadata": {
        "colab": {
          "base_uri": "https://localhost:8080/"
        },
        "id": "rAgH231APRz4",
        "outputId": "93b8de31-8702-4dc8-ccd0-c67726b25de7"
      },
      "execution_count": null,
      "outputs": [
        {
          "output_type": "execute_result",
          "data": {
            "text/plain": [
              "tensor([[0, 0, 0],\n",
              "        [0, 0, 0]])"
            ]
          },
          "metadata": {},
          "execution_count": 28
        }
      ]
    },
    {
      "cell_type": "code",
      "source": [
        "torch.ones_like(x)"
      ],
      "metadata": {
        "colab": {
          "base_uri": "https://localhost:8080/"
        },
        "id": "izJRYx3bP8BZ",
        "outputId": "10815a8f-3e4b-479c-d76e-5d878c75a637"
      },
      "execution_count": null,
      "outputs": [
        {
          "output_type": "execute_result",
          "data": {
            "text/plain": [
              "tensor([[1, 1, 1],\n",
              "        [1, 1, 1]])"
            ]
          },
          "metadata": {},
          "execution_count": 29
        }
      ]
    },
    {
      "cell_type": "code",
      "source": [
        "x.dtype"
      ],
      "metadata": {
        "colab": {
          "base_uri": "https://localhost:8080/"
        },
        "id": "5DdSeplrQAm9",
        "outputId": "fc158987-96b3-4211-e268-09ee62d7ea4f"
      },
      "execution_count": null,
      "outputs": [
        {
          "output_type": "execute_result",
          "data": {
            "text/plain": [
              "torch.int64"
            ]
          },
          "metadata": {},
          "execution_count": 30
        }
      ]
    },
    {
      "cell_type": "markdown",
      "source": [
        "## Tensor Data Types"
      ],
      "metadata": {
        "id": "gYKBIGXPQXUR"
      }
    },
    {
      "cell_type": "code",
      "source": [
        "x.dtype"
      ],
      "metadata": {
        "colab": {
          "base_uri": "https://localhost:8080/"
        },
        "id": "uGrMTiqxQpNq",
        "outputId": "a5ae5612-b5aa-434a-cc75-4e3520b28585"
      },
      "execution_count": null,
      "outputs": [
        {
          "output_type": "execute_result",
          "data": {
            "text/plain": [
              "torch.int64"
            ]
          },
          "metadata": {},
          "execution_count": 31
        }
      ]
    },
    {
      "cell_type": "code",
      "source": [
        "torch.tensor([1.0,2.0,3.0],dtype=torch.int32)"
      ],
      "metadata": {
        "colab": {
          "base_uri": "https://localhost:8080/"
        },
        "id": "z85WyE7zQ2Zs",
        "outputId": "b4a0baba-9dfe-45d2-a4b0-a11ea6e5fd8b"
      },
      "execution_count": null,
      "outputs": [
        {
          "output_type": "execute_result",
          "data": {
            "text/plain": [
              "tensor([1, 2, 3], dtype=torch.int32)"
            ]
          },
          "metadata": {},
          "execution_count": 32
        }
      ]
    },
    {
      "cell_type": "code",
      "source": [
        "# Changing dtypes\n",
        "x.to(torch.float32)"
      ],
      "metadata": {
        "colab": {
          "base_uri": "https://localhost:8080/"
        },
        "id": "08fNX7B2RPJV",
        "outputId": "11478fb4-3357-4832-cd21-f27ac8cae1a7"
      },
      "execution_count": null,
      "outputs": [
        {
          "output_type": "execute_result",
          "data": {
            "text/plain": [
              "tensor([[1., 2., 3.],\n",
              "        [4., 5., 6.]])"
            ]
          },
          "metadata": {},
          "execution_count": 34
        }
      ]
    },
    {
      "cell_type": "code",
      "source": [
        " # We use majorly float32 for Deep learning tasks"
      ],
      "metadata": {
        "id": "VTOEzMkXRwRs"
      },
      "execution_count": null,
      "outputs": []
    },
    {
      "cell_type": "code",
      "source": [
        "torch.rand_like(x,dtype=torch.float32)"
      ],
      "metadata": {
        "colab": {
          "base_uri": "https://localhost:8080/"
        },
        "id": "rsg2p_g8R3ji",
        "outputId": "96471a34-a346-470a-b084-ffe1a7645313"
      },
      "execution_count": null,
      "outputs": [
        {
          "output_type": "execute_result",
          "data": {
            "text/plain": [
              "tensor([[0.2627, 0.0428, 0.2080],\n",
              "        [0.1180, 0.1217, 0.7356]])"
            ]
          },
          "metadata": {},
          "execution_count": 36
        }
      ]
    },
    {
      "cell_type": "markdown",
      "source": [
        "## Mathematical Operations"
      ],
      "metadata": {
        "id": "QCUsyNURSG3z"
      }
    },
    {
      "cell_type": "code",
      "source": [
        "x = torch.rand(2,3)\n",
        "x"
      ],
      "metadata": {
        "colab": {
          "base_uri": "https://localhost:8080/"
        },
        "id": "jtNDEW2iSQtl",
        "outputId": "f61b0ef9-c3e3-4b4a-ec3e-a45940fc5f35"
      },
      "execution_count": null,
      "outputs": [
        {
          "output_type": "execute_result",
          "data": {
            "text/plain": [
              "tensor([[0.2239, 0.3023, 0.1784],\n",
              "        [0.8238, 0.5557, 0.9770]])"
            ]
          },
          "metadata": {},
          "execution_count": 38
        }
      ]
    },
    {
      "cell_type": "code",
      "source": [
        "x + 2"
      ],
      "metadata": {
        "colab": {
          "base_uri": "https://localhost:8080/"
        },
        "id": "qEpdcLcjSUEP",
        "outputId": "63737aee-562e-4756-9cf9-df5c88d52db6"
      },
      "execution_count": null,
      "outputs": [
        {
          "output_type": "execute_result",
          "data": {
            "text/plain": [
              "tensor([[2.2239, 2.3023, 2.1784],\n",
              "        [2.8238, 2.5557, 2.9770]])"
            ]
          },
          "metadata": {},
          "execution_count": 39
        }
      ]
    },
    {
      "cell_type": "code",
      "source": [
        "# int divison\n",
        "a = (x*100)//3"
      ],
      "metadata": {
        "id": "z1gXuOqsSXjS"
      },
      "execution_count": null,
      "outputs": []
    },
    {
      "cell_type": "code",
      "source": [
        "# mod\n",
        "a%2\n",
        "\n"
      ],
      "metadata": {
        "colab": {
          "base_uri": "https://localhost:8080/"
        },
        "id": "I79G1npESqkH",
        "outputId": "7e98594a-3b34-4942-81d5-ccc9b38eb689"
      },
      "execution_count": null,
      "outputs": [
        {
          "output_type": "execute_result",
          "data": {
            "text/plain": [
              "tensor([[1., 0., 1.],\n",
              "        [1., 0., 0.]])"
            ]
          },
          "metadata": {},
          "execution_count": 43
        }
      ]
    },
    {
      "cell_type": "markdown",
      "source": [
        "## Element wise operations"
      ],
      "metadata": {
        "id": "N2XTg9MBS6gg"
      }
    },
    {
      "cell_type": "code",
      "source": [
        "a = torch.rand(2,3)\n",
        "b = torch.rand(2,3)\n",
        "print(a)\n",
        "print(b)"
      ],
      "metadata": {
        "colab": {
          "base_uri": "https://localhost:8080/"
        },
        "id": "YJyssgAMTAqu",
        "outputId": "ebfa64a3-b5e2-4a56-b54e-8f20a41eef8a"
      },
      "execution_count": null,
      "outputs": [
        {
          "output_type": "stream",
          "name": "stdout",
          "text": [
            "tensor([[0.9051, 0.5989, 0.4450],\n",
            "        [0.7278, 0.4563, 0.3389]])\n",
            "tensor([[0.6211, 0.5530, 0.6896],\n",
            "        [0.3687, 0.9053, 0.8356]])\n"
          ]
        }
      ]
    },
    {
      "cell_type": "code",
      "source": [
        "# a+b,a-b,a*b,a/b,"
      ],
      "metadata": {
        "id": "WdmZr0SwTIR5"
      },
      "execution_count": null,
      "outputs": []
    },
    {
      "cell_type": "code",
      "source": [
        "#Power\n",
        "a**b"
      ],
      "metadata": {
        "colab": {
          "base_uri": "https://localhost:8080/"
        },
        "id": "bXsIntGZTak3",
        "outputId": "ff29320e-ad9a-494f-eb5e-3cd724f727bf"
      },
      "execution_count": null,
      "outputs": [
        {
          "output_type": "execute_result",
          "data": {
            "text/plain": [
              "tensor([[0.9399, 0.7531, 0.5722],\n",
              "        [0.8895, 0.4915, 0.4049]])"
            ]
          },
          "metadata": {},
          "execution_count": 49
        }
      ]
    },
    {
      "cell_type": "code",
      "source": [
        "c = torch.tensor(([-2,4,2],[-3,3,-5]))"
      ],
      "metadata": {
        "id": "BqP2x5g4Tf6H"
      },
      "execution_count": null,
      "outputs": []
    },
    {
      "cell_type": "code",
      "source": [
        "torch.abs(c)"
      ],
      "metadata": {
        "colab": {
          "base_uri": "https://localhost:8080/"
        },
        "id": "BpDs6v0GTtCc",
        "outputId": "8865db7e-cd61-4114-d410-d54528e01beb"
      },
      "execution_count": null,
      "outputs": [
        {
          "output_type": "execute_result",
          "data": {
            "text/plain": [
              "tensor([[2, 4, 2],\n",
              "        [3, 3, 5]])"
            ]
          },
          "metadata": {},
          "execution_count": 52
        }
      ]
    },
    {
      "cell_type": "code",
      "source": [
        "# Round\n",
        "torch.round(b)"
      ],
      "metadata": {
        "colab": {
          "base_uri": "https://localhost:8080/"
        },
        "id": "bgeci4i0T0uX",
        "outputId": "212f29bc-1d55-4678-8a4f-8b860d609522"
      },
      "execution_count": null,
      "outputs": [
        {
          "output_type": "execute_result",
          "data": {
            "text/plain": [
              "tensor([[1., 1., 1.],\n",
              "        [0., 1., 1.]])"
            ]
          },
          "metadata": {},
          "execution_count": 53
        }
      ]
    },
    {
      "cell_type": "code",
      "source": [
        "# clamp\n",
        "x = torch.tensor([1,2,3,5.4,3.2,1.9])\n",
        "torch.clamp(x,2,3)"
      ],
      "metadata": {
        "colab": {
          "base_uri": "https://localhost:8080/"
        },
        "id": "kL1i5fCUT6fJ",
        "outputId": "c86d48dd-6130-42f3-d10a-81f3cf83d66b"
      },
      "execution_count": null,
      "outputs": [
        {
          "output_type": "execute_result",
          "data": {
            "text/plain": [
              "tensor([2., 2., 3., 3., 3., 2.])"
            ]
          },
          "metadata": {},
          "execution_count": 55
        }
      ]
    },
    {
      "cell_type": "markdown",
      "source": [
        "## Reduction Operations"
      ],
      "metadata": {
        "id": "N99AFEywUE_O"
      }
    },
    {
      "cell_type": "code",
      "source": [
        "e = torch.randint(size=(2,3),low=2,high=9)\n",
        "e"
      ],
      "metadata": {
        "colab": {
          "base_uri": "https://localhost:8080/"
        },
        "id": "P7HwNRStUbRg",
        "outputId": "aad89f95-9e17-4254-a3cf-7103f519aeaa"
      },
      "execution_count": null,
      "outputs": [
        {
          "output_type": "execute_result",
          "data": {
            "text/plain": [
              "tensor([[4, 5, 4],\n",
              "        [2, 7, 3]])"
            ]
          },
          "metadata": {},
          "execution_count": 56
        }
      ]
    },
    {
      "cell_type": "code",
      "source": [
        "torch.sum(e)"
      ],
      "metadata": {
        "colab": {
          "base_uri": "https://localhost:8080/"
        },
        "id": "XrK-w-IKUm3l",
        "outputId": "700d8f04-c773-456c-9568-e7bdd967b6c3"
      },
      "execution_count": null,
      "outputs": [
        {
          "output_type": "execute_result",
          "data": {
            "text/plain": [
              "tensor(25)"
            ]
          },
          "metadata": {},
          "execution_count": 57
        }
      ]
    },
    {
      "cell_type": "code",
      "source": [
        "torch.sum(e,dim=0) # Along columns"
      ],
      "metadata": {
        "colab": {
          "base_uri": "https://localhost:8080/"
        },
        "id": "m_HE9zIbUqiR",
        "outputId": "1dc4a2bd-df75-4480-8f12-51b495606834"
      },
      "execution_count": null,
      "outputs": [
        {
          "output_type": "execute_result",
          "data": {
            "text/plain": [
              "tensor([ 6, 12,  7])"
            ]
          },
          "metadata": {},
          "execution_count": 58
        }
      ]
    },
    {
      "cell_type": "code",
      "source": [
        "torch.sum(e,dim=1)"
      ],
      "metadata": {
        "colab": {
          "base_uri": "https://localhost:8080/"
        },
        "id": "YlA_8p5bUxVC",
        "outputId": "920b8f29-b66f-4ede-84f8-068885ea981e"
      },
      "execution_count": null,
      "outputs": [
        {
          "output_type": "execute_result",
          "data": {
            "text/plain": [
              "tensor([13, 12])"
            ]
          },
          "metadata": {},
          "execution_count": 59
        }
      ]
    },
    {
      "cell_type": "code",
      "source": [
        "torch.median(e) #Similarly you can do mean as well"
      ],
      "metadata": {
        "colab": {
          "base_uri": "https://localhost:8080/"
        },
        "id": "KEG-n3bUU5dv",
        "outputId": "f1883736-b413-431c-9621-f0e0652de13c"
      },
      "execution_count": null,
      "outputs": [
        {
          "output_type": "execute_result",
          "data": {
            "text/plain": [
              "tensor(4)"
            ]
          },
          "metadata": {},
          "execution_count": 60
        }
      ]
    },
    {
      "cell_type": "code",
      "source": [
        "torch.prod(e)"
      ],
      "metadata": {
        "colab": {
          "base_uri": "https://localhost:8080/"
        },
        "id": "cOp316D0VQ87",
        "outputId": "89c01a44-f71c-4950-bc78-a87b70558440"
      },
      "execution_count": null,
      "outputs": [
        {
          "output_type": "execute_result",
          "data": {
            "text/plain": [
              "tensor(3360)"
            ]
          },
          "metadata": {},
          "execution_count": 61
        }
      ]
    },
    {
      "cell_type": "code",
      "source": [
        "# Std deviation\n",
        "a = e.to(dtype=torch.float32)\n",
        "torch.std(a)\n"
      ],
      "metadata": {
        "colab": {
          "base_uri": "https://localhost:8080/"
        },
        "id": "CXXl8bh0Vcoh",
        "outputId": "10ac65d0-8887-4295-9088-fd5846238010"
      },
      "execution_count": null,
      "outputs": [
        {
          "output_type": "execute_result",
          "data": {
            "text/plain": [
              "tensor(1.7224)"
            ]
          },
          "metadata": {},
          "execution_count": 66
        }
      ]
    },
    {
      "cell_type": "code",
      "source": [
        "# Variance\n",
        "torch.var(a)"
      ],
      "metadata": {
        "colab": {
          "base_uri": "https://localhost:8080/"
        },
        "id": "VzqlKadsVjNE",
        "outputId": "f621fbd8-b2e5-4e7b-8726-0824e63c514d"
      },
      "execution_count": null,
      "outputs": [
        {
          "output_type": "execute_result",
          "data": {
            "text/plain": [
              "tensor(2.9667)"
            ]
          },
          "metadata": {},
          "execution_count": 67
        }
      ]
    },
    {
      "cell_type": "code",
      "source": [
        "print(a)\n",
        "torch.argmax(a)"
      ],
      "metadata": {
        "colab": {
          "base_uri": "https://localhost:8080/"
        },
        "id": "1dA3_h3PWAKE",
        "outputId": "045ea569-7749-4842-eb17-7b696f4c6762"
      },
      "execution_count": null,
      "outputs": [
        {
          "output_type": "stream",
          "name": "stdout",
          "text": [
            "tensor([[4., 5., 4.],\n",
            "        [2., 7., 3.]])\n"
          ]
        },
        {
          "output_type": "execute_result",
          "data": {
            "text/plain": [
              "tensor(4)"
            ]
          },
          "metadata": {},
          "execution_count": 68
        }
      ]
    },
    {
      "cell_type": "markdown",
      "source": [
        "## Matrix operations"
      ],
      "metadata": {
        "id": "dGfAfGiJWI5s"
      }
    },
    {
      "cell_type": "code",
      "source": [
        "a = torch.tensor(([2,3,4],[7,8,9],[2,1,0]))\n",
        "b = torch.tensor(([2,0,5],[9,1,6],[10,6,4]))\n",
        "\n",
        "vector1 = torch.tensor([1,2,3])\n",
        "vector2 = torch.tensor([4,5,6])\n",
        "\n"
      ],
      "metadata": {
        "id": "4Fysad9EWU-C"
      },
      "execution_count": null,
      "outputs": []
    },
    {
      "cell_type": "code",
      "source": [
        "torch.matmul(a,b)"
      ],
      "metadata": {
        "colab": {
          "base_uri": "https://localhost:8080/"
        },
        "id": "FpsO8XiqWkFH",
        "outputId": "dd27d8f1-0a89-4008-8b00-b1bdcfefe7b6"
      },
      "execution_count": null,
      "outputs": [
        {
          "output_type": "execute_result",
          "data": {
            "text/plain": [
              "tensor([[ 71,  27,  44],\n",
              "        [176,  62, 119],\n",
              "        [ 13,   1,  16]])"
            ]
          },
          "metadata": {},
          "execution_count": 71
        }
      ]
    },
    {
      "cell_type": "code",
      "source": [
        "# dotproduct\n",
        "torch.dot(vector1,vector2)"
      ],
      "metadata": {
        "colab": {
          "base_uri": "https://localhost:8080/"
        },
        "id": "wkknkv0hXA9S",
        "outputId": "4aab5bbc-119a-41dd-b503-77826aeca3e2"
      },
      "execution_count": null,
      "outputs": [
        {
          "output_type": "execute_result",
          "data": {
            "text/plain": [
              "tensor(32)"
            ]
          },
          "metadata": {},
          "execution_count": 76
        }
      ]
    },
    {
      "cell_type": "code",
      "source": [
        "torch.transpose(b,0,1)"
      ],
      "metadata": {
        "colab": {
          "base_uri": "https://localhost:8080/"
        },
        "id": "C1CsVPnEXpH5",
        "outputId": "3cbf0833-62f2-4158-9fa2-0642b8cefcd0"
      },
      "execution_count": null,
      "outputs": [
        {
          "output_type": "execute_result",
          "data": {
            "text/plain": [
              "tensor([[ 2,  9, 10],\n",
              "        [ 0,  1,  6],\n",
              "        [ 5,  6,  4]])"
            ]
          },
          "metadata": {},
          "execution_count": 77
        }
      ]
    },
    {
      "cell_type": "code",
      "source": [
        "# torch.det() Use karlena for calculating determinant values"
      ],
      "metadata": {
        "id": "otUW7cv-YZGp"
      },
      "execution_count": null,
      "outputs": []
    },
    {
      "cell_type": "code",
      "source": [
        "h = torch.randint(size=(3,3),low=0,high=10,dtype=torch.float32)\n",
        "h"
      ],
      "metadata": {
        "colab": {
          "base_uri": "https://localhost:8080/"
        },
        "id": "w4KLnofAYiGo",
        "outputId": "e79a25f9-f766-4ac0-a54c-4cf318d3c8f7"
      },
      "execution_count": null,
      "outputs": [
        {
          "output_type": "execute_result",
          "data": {
            "text/plain": [
              "tensor([[6., 2., 9.],\n",
              "        [5., 0., 4.],\n",
              "        [2., 7., 1.]])"
            ]
          },
          "metadata": {},
          "execution_count": 86
        }
      ]
    },
    {
      "cell_type": "code",
      "source": [
        "#For calculating inverse\n",
        "torch.inverse(h)"
      ],
      "metadata": {
        "colab": {
          "base_uri": "https://localhost:8080/"
        },
        "id": "xe6diybkZAst",
        "outputId": "3252dd49-5b13-4fb7-f49c-e6d9c3419efa"
      },
      "execution_count": null,
      "outputs": [
        {
          "output_type": "execute_result",
          "data": {
            "text/plain": [
              "tensor([[-0.1830,  0.3987,  0.0523],\n",
              "        [ 0.0196, -0.0784,  0.1373],\n",
              "        [ 0.2288, -0.2484, -0.0654]])"
            ]
          },
          "metadata": {},
          "execution_count": 87
        }
      ]
    },
    {
      "cell_type": "markdown",
      "source": [
        "## Special Functions"
      ],
      "metadata": {
        "id": "_2UZ49VTZKZW"
      }
    },
    {
      "cell_type": "code",
      "source": [
        "k = torch.randint(size=(3,3),low=1,high=9)"
      ],
      "metadata": {
        "id": "ntQbd6i2ZoC8"
      },
      "execution_count": null,
      "outputs": []
    },
    {
      "cell_type": "code",
      "source": [
        "torch.log(k)"
      ],
      "metadata": {
        "colab": {
          "base_uri": "https://localhost:8080/"
        },
        "id": "lMOgyFvOaANV",
        "outputId": "15b4f0c2-0839-4458-c128-2e58d5f4b4c2"
      },
      "execution_count": null,
      "outputs": [
        {
          "output_type": "execute_result",
          "data": {
            "text/plain": [
              "tensor([[1.9459, 1.3863, 1.6094],\n",
              "        [2.0794, 1.0986, 2.0794],\n",
              "        [1.9459, 2.0794, 1.6094]])"
            ]
          },
          "metadata": {},
          "execution_count": 91
        }
      ]
    },
    {
      "cell_type": "code",
      "source": [
        "torch.exp(k)"
      ],
      "metadata": {
        "colab": {
          "base_uri": "https://localhost:8080/"
        },
        "id": "dW3lme02aDKA",
        "outputId": "faafd834-4f2d-4eb7-ff6e-cc0bcb92dbd6"
      },
      "execution_count": null,
      "outputs": [
        {
          "output_type": "execute_result",
          "data": {
            "text/plain": [
              "tensor([[1096.6332,   54.5981,  148.4132],\n",
              "        [2980.9580,   20.0855, 2980.9580],\n",
              "        [1096.6332, 2980.9580,  148.4132]])"
            ]
          },
          "metadata": {},
          "execution_count": 92
        }
      ]
    },
    {
      "cell_type": "code",
      "source": [
        "#sigmoid\n",
        "torch.sigmoid(k)"
      ],
      "metadata": {
        "colab": {
          "base_uri": "https://localhost:8080/"
        },
        "id": "DzI4WbgUaHPy",
        "outputId": "ed4a20bb-223f-4766-fcae-bb2a2f49ccd2"
      },
      "execution_count": null,
      "outputs": [
        {
          "output_type": "execute_result",
          "data": {
            "text/plain": [
              "tensor([[0.9991, 0.9820, 0.9933],\n",
              "        [0.9997, 0.9526, 0.9997],\n",
              "        [0.9991, 0.9997, 0.9933]])"
            ]
          },
          "metadata": {},
          "execution_count": 93
        }
      ]
    },
    {
      "cell_type": "code",
      "source": [
        "z = k.to(dtype=torch.float32)"
      ],
      "metadata": {
        "id": "KPrGCXsWaP1e"
      },
      "execution_count": null,
      "outputs": []
    },
    {
      "cell_type": "code",
      "source": [
        "torch.softmax(z,0)"
      ],
      "metadata": {
        "colab": {
          "base_uri": "https://localhost:8080/"
        },
        "id": "762oKfhfaV5Q",
        "outputId": "5bf925ec-c149-4052-a3b7-175c0cb545f4"
      },
      "execution_count": null,
      "outputs": [
        {
          "output_type": "execute_result",
          "data": {
            "text/plain": [
              "tensor([[0.2119, 0.0179, 0.0453],\n",
              "        [0.5761, 0.0066, 0.9094],\n",
              "        [0.2119, 0.9756, 0.0453]])"
            ]
          },
          "metadata": {},
          "execution_count": 95
        }
      ]
    },
    {
      "cell_type": "code",
      "source": [
        "torch.relu(k)"
      ],
      "metadata": {
        "colab": {
          "base_uri": "https://localhost:8080/"
        },
        "id": "_qJdn_wWaoNs",
        "outputId": "74a2e42a-ee1c-4bc6-d8ac-7de3e9343527"
      },
      "execution_count": null,
      "outputs": [
        {
          "output_type": "execute_result",
          "data": {
            "text/plain": [
              "tensor([[7, 4, 5],\n",
              "        [8, 3, 8],\n",
              "        [7, 8, 5]])"
            ]
          },
          "metadata": {},
          "execution_count": 96
        }
      ]
    },
    {
      "cell_type": "markdown",
      "source": [
        "## Inplace operations"
      ],
      "metadata": {
        "id": "pkhQvVkgatxo"
      }
    },
    {
      "cell_type": "code",
      "source": [
        "m = torch.rand(2,3)\n",
        "n = torch.rand(2,3)\n",
        "m"
      ],
      "metadata": {
        "colab": {
          "base_uri": "https://localhost:8080/"
        },
        "id": "QA27FR0xbQiG",
        "outputId": "ca18c156-bdba-488d-fc89-bff212ab9ce9"
      },
      "execution_count": null,
      "outputs": [
        {
          "output_type": "execute_result",
          "data": {
            "text/plain": [
              "tensor([[0.3206, 0.9753, 0.7582],\n",
              "        [0.6688, 0.2651, 0.2336]])"
            ]
          },
          "metadata": {},
          "execution_count": 99
        }
      ]
    },
    {
      "cell_type": "code",
      "source": [
        "m.add_(n) # Adds n and stores in m only."
      ],
      "metadata": {
        "colab": {
          "base_uri": "https://localhost:8080/"
        },
        "id": "yLTF0ojCbWEH",
        "outputId": "9a7c89e5-4034-4609-d362-6e4c72f46a77"
      },
      "execution_count": null,
      "outputs": [
        {
          "output_type": "execute_result",
          "data": {
            "text/plain": [
              "tensor([[1.6774, 1.5705, 0.5734],\n",
              "        [1.4325, 0.9792, 0.9839]])"
            ]
          },
          "metadata": {},
          "execution_count": 98
        }
      ]
    },
    {
      "cell_type": "code",
      "source": [
        "m.relu_() # m karke relu in m only"
      ],
      "metadata": {
        "colab": {
          "base_uri": "https://localhost:8080/"
        },
        "id": "eDVnkjnNbdR-",
        "outputId": "7d27a6ae-c46c-44f8-b5a3-760edacd4e87"
      },
      "execution_count": null,
      "outputs": [
        {
          "output_type": "execute_result",
          "data": {
            "text/plain": [
              "tensor([[0.3206, 0.9753, 0.7582],\n",
              "        [0.6688, 0.2651, 0.2336]])"
            ]
          },
          "metadata": {},
          "execution_count": 100
        }
      ]
    },
    {
      "cell_type": "markdown",
      "source": [
        "## Copying a tensor"
      ],
      "metadata": {
        "id": "Gum8hxQgbogZ"
      }
    },
    {
      "cell_type": "code",
      "source": [
        "a = torch.rand(2,3)"
      ],
      "metadata": {
        "id": "4pKYJNRLbxMZ"
      },
      "execution_count": null,
      "outputs": []
    },
    {
      "cell_type": "code",
      "source": [
        "b = torch.clone(a) # To copy a tensor"
      ],
      "metadata": {
        "id": "85H1NBTub3Oa"
      },
      "execution_count": null,
      "outputs": []
    },
    {
      "cell_type": "code",
      "source": [
        "a\n",
        "b"
      ],
      "metadata": {
        "colab": {
          "base_uri": "https://localhost:8080/"
        },
        "id": "7mejcXZgcHJR",
        "outputId": "4204fb21-cc4b-44f9-f983-19aab1ea5b2c"
      },
      "execution_count": null,
      "outputs": [
        {
          "output_type": "execute_result",
          "data": {
            "text/plain": [
              "tensor([[0.1879, 0.5534, 0.2682],\n",
              "        [0.9556, 0.9761, 0.5934]])"
            ]
          },
          "metadata": {},
          "execution_count": 103
        }
      ]
    },
    {
      "cell_type": "markdown",
      "source": [
        "## Reshape tensors"
      ],
      "metadata": {
        "id": "rmYoU7DWcIyW"
      }
    },
    {
      "cell_type": "code",
      "source": [
        "a = torch.ones(3,4)"
      ],
      "metadata": {
        "id": "_0Pw-kxkdV-r"
      },
      "execution_count": null,
      "outputs": []
    },
    {
      "cell_type": "code",
      "source": [
        "a.reshape(4,3) #.reshape()\n"
      ],
      "metadata": {
        "colab": {
          "base_uri": "https://localhost:8080/"
        },
        "id": "Duw3qe3fdYl2",
        "outputId": "2c0cb623-1f4b-4a0f-ed19-c2956cfd8e34"
      },
      "execution_count": null,
      "outputs": [
        {
          "output_type": "execute_result",
          "data": {
            "text/plain": [
              "tensor([[1., 1., 1.],\n",
              "        [1., 1., 1.],\n",
              "        [1., 1., 1.],\n",
              "        [1., 1., 1.]])"
            ]
          },
          "metadata": {},
          "execution_count": 108
        }
      ]
    },
    {
      "cell_type": "code",
      "source": [
        "# flattten\n",
        "a.flatten()"
      ],
      "metadata": {
        "colab": {
          "base_uri": "https://localhost:8080/"
        },
        "id": "S4_E2f0BeN0z",
        "outputId": "a9214690-6d8c-46a5-e073-592f0dc2f46c"
      },
      "execution_count": null,
      "outputs": [
        {
          "output_type": "execute_result",
          "data": {
            "text/plain": [
              "tensor([1., 1., 1., 1., 1., 1., 1., 1., 1., 1., 1., 1.])"
            ]
          },
          "metadata": {},
          "execution_count": 109
        }
      ]
    },
    {
      "cell_type": "code",
      "source": [
        "# unsqueeze\n",
        "c = torch.rand(226,226,3)\n",
        "c.unsqueeze(0).shape\n",
        "#Adds a dimension to the given position"
      ],
      "metadata": {
        "colab": {
          "base_uri": "https://localhost:8080/"
        },
        "id": "TFGlW-ZyeeOE",
        "outputId": "0d1af3bb-8533-4703-eafe-5ef3e44e04f9"
      },
      "execution_count": null,
      "outputs": [
        {
          "output_type": "execute_result",
          "data": {
            "text/plain": [
              "torch.Size([1, 226, 226, 3])"
            ]
          },
          "metadata": {},
          "execution_count": 110
        }
      ]
    },
    {
      "cell_type": "markdown",
      "source": [
        "## Pytorch and Numpy"
      ],
      "metadata": {
        "id": "4Uiibb4UfFLg"
      }
    },
    {
      "cell_type": "code",
      "source": [
        "import numpy as np"
      ],
      "metadata": {
        "id": "gaI_-Flkfmbl"
      },
      "execution_count": null,
      "outputs": []
    },
    {
      "cell_type": "code",
      "source": [
        "a = torch.tensor([1,2,3])"
      ],
      "metadata": {
        "id": "wi0oLz9cfoFG"
      },
      "execution_count": null,
      "outputs": []
    },
    {
      "cell_type": "code",
      "source": [
        "b = a.numpy()"
      ],
      "metadata": {
        "id": "Ppthn9XOfrdO"
      },
      "execution_count": null,
      "outputs": []
    },
    {
      "cell_type": "code",
      "source": [
        "type(b)"
      ],
      "metadata": {
        "colab": {
          "base_uri": "https://localhost:8080/"
        },
        "id": "1N41WBZjfvC6",
        "outputId": "2a73a63b-6ae4-4d83-d561-5fbba84f39c9"
      },
      "execution_count": null,
      "outputs": [
        {
          "output_type": "execute_result",
          "data": {
            "text/plain": [
              "numpy.ndarray"
            ]
          },
          "metadata": {},
          "execution_count": 115
        }
      ]
    },
    {
      "cell_type": "code",
      "source": [
        "c = np.array([1,2,3])"
      ],
      "metadata": {
        "id": "PuVRTB3ofxqx"
      },
      "execution_count": null,
      "outputs": []
    },
    {
      "cell_type": "code",
      "source": [
        "torch.from_numpy(c)"
      ],
      "metadata": {
        "id": "S5jrCvvYf-x8",
        "outputId": "aba72538-0490-4ec4-bb7d-9d7c5d5e046f",
        "colab": {
          "base_uri": "https://localhost:8080/"
        }
      },
      "execution_count": null,
      "outputs": [
        {
          "output_type": "execute_result",
          "data": {
            "text/plain": [
              "tensor([1, 2, 3])"
            ]
          },
          "metadata": {},
          "execution_count": 117
        }
      ]
    },
    {
      "cell_type": "code",
      "source": [],
      "metadata": {
        "id": "FIBJ6ZWLgDZ_"
      },
      "execution_count": null,
      "outputs": []
    }
  ]
}