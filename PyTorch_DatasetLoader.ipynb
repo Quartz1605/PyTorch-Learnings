{
  "nbformat": 4,
  "nbformat_minor": 0,
  "metadata": {
    "colab": {
      "provenance": [],
      "authorship_tag": "ABX9TyOPowRg6G43pkUXKyt2MkiN",
      "include_colab_link": true
    },
    "kernelspec": {
      "name": "python3",
      "display_name": "Python 3"
    },
    "language_info": {
      "name": "python"
    }
  },
  "cells": [
    {
      "cell_type": "markdown",
      "metadata": {
        "id": "view-in-github",
        "colab_type": "text"
      },
      "source": [
        "<a href=\"https://colab.research.google.com/github/Quartz1605/PyTorch-Learnings/blob/main/PyTorch_DatasetLoader.ipynb\" target=\"_parent\"><img src=\"https://colab.research.google.com/assets/colab-badge.svg\" alt=\"Open In Colab\"/></a>"
      ]
    },
    {
      "cell_type": "code",
      "execution_count": 1,
      "metadata": {
        "colab": {
          "base_uri": "https://localhost:8080/"
        },
        "id": "5DaSM4nXbuJT",
        "outputId": "00bafa2a-4b26-49ba-b844-43782dfddc40"
      },
      "outputs": [
        {
          "output_type": "stream",
          "name": "stdout",
          "text": [
            "Hello pratham\n"
          ]
        }
      ],
      "source": [
        "print(\"Hello pratham\")"
      ]
    },
    {
      "cell_type": "code",
      "source": [
        "import torch\n",
        "from sklearn.datasets import make_classification"
      ],
      "metadata": {
        "id": "IG52YhzZjkZQ"
      },
      "execution_count": 5,
      "outputs": []
    },
    {
      "cell_type": "code",
      "source": [
        "## Creating fake data for testing\n",
        "X,y = make_classification(\n",
        "    n_samples=10,\n",
        "    n_features=2,\n",
        "    n_informative=2,\n",
        "    n_redundant=0,\n",
        "    n_classes=2,\n",
        "    random_state=42\n",
        ")"
      ],
      "metadata": {
        "id": "L7nXVkYmnm4x"
      },
      "execution_count": 7,
      "outputs": []
    },
    {
      "cell_type": "code",
      "source": [
        "X.shape"
      ],
      "metadata": {
        "colab": {
          "base_uri": "https://localhost:8080/"
        },
        "id": "oUE-EtGcoAFJ",
        "outputId": "90028256-56a4-4fb3-8788-910ba922cd65"
      },
      "execution_count": 10,
      "outputs": [
        {
          "output_type": "execute_result",
          "data": {
            "text/plain": [
              "(10, 2)"
            ]
          },
          "metadata": {},
          "execution_count": 10
        }
      ]
    },
    {
      "cell_type": "code",
      "source": [
        "X = torch.from_numpy(X)\n",
        "y = torch.from_numpy(y)"
      ],
      "metadata": {
        "id": "1r4CmQf1ofuD"
      },
      "execution_count": 11,
      "outputs": []
    },
    {
      "cell_type": "code",
      "source": [
        "X = X.to(torch.float32)"
      ],
      "metadata": {
        "id": "A7hSKRxFou0R"
      },
      "execution_count": 13,
      "outputs": []
    },
    {
      "cell_type": "code",
      "source": [
        "X.dtype"
      ],
      "metadata": {
        "colab": {
          "base_uri": "https://localhost:8080/"
        },
        "id": "TK7hmiJsovuw",
        "outputId": "ca83a42f-b457-40f7-e721-516d07ec045e"
      },
      "execution_count": 14,
      "outputs": [
        {
          "output_type": "execute_result",
          "data": {
            "text/plain": [
              "torch.float32"
            ]
          },
          "metadata": {},
          "execution_count": 14
        }
      ]
    },
    {
      "cell_type": "code",
      "source": [
        "X"
      ],
      "metadata": {
        "colab": {
          "base_uri": "https://localhost:8080/"
        },
        "id": "Bmg_mNvho3F_",
        "outputId": "a0185593-53d9-4a14-ec63-45e6e3fd4878"
      },
      "execution_count": 15,
      "outputs": [
        {
          "output_type": "execute_result",
          "data": {
            "text/plain": [
              "tensor([[ 1.0683, -0.9701],\n",
              "        [-1.1402, -0.8388],\n",
              "        [-2.8954,  1.9769],\n",
              "        [-0.7206, -0.9606],\n",
              "        [-1.9629, -0.9923],\n",
              "        [-0.9382, -0.5430],\n",
              "        [ 1.7273, -1.1858],\n",
              "        [ 1.7774,  1.5116],\n",
              "        [ 1.8997,  0.8344],\n",
              "        [-0.5872, -1.9717]])"
            ]
          },
          "metadata": {},
          "execution_count": 15
        }
      ]
    },
    {
      "cell_type": "code",
      "source": [
        "y = y.to(torch.long)"
      ],
      "metadata": {
        "id": "0TdvBpm0o3xC"
      },
      "execution_count": 16,
      "outputs": []
    },
    {
      "cell_type": "markdown",
      "source": [
        "## Beginning the dataset Batch work"
      ],
      "metadata": {
        "id": "jykygYrMpK3o"
      }
    },
    {
      "cell_type": "code",
      "source": [
        "from torch.utils.data import Dataset,DataLoader\n"
      ],
      "metadata": {
        "id": "lxlFnthUpeYq"
      },
      "execution_count": 18,
      "outputs": []
    },
    {
      "cell_type": "code",
      "source": [
        "# To basically make a Dataset ready for DataLoader which splits it into batches.\n",
        "# Yeh magic methods hai and name and all sab same rahega/Rakhna.\n",
        "# Yeh code ko same hi rakhna always, don't change kabhi.\n",
        "class CustomDataset(Dataset):\n",
        "\n",
        "  def __init__(self,features,labels):\n",
        "    self.features = features\n",
        "    self.labels = labels\n",
        "\n",
        "  def __len__(self):\n",
        "    return self.features.shape[0]\n",
        "\n",
        "  def __getitem__(self,index):\n",
        "    return self.features[index],self.labels[index]"
      ],
      "metadata": {
        "id": "7765PkdApll4"
      },
      "execution_count": 19,
      "outputs": []
    },
    {
      "cell_type": "code",
      "source": [
        "dataset = CustomDataset(X,y)"
      ],
      "metadata": {
        "id": "fVZPBxQVqMB9"
      },
      "execution_count": 20,
      "outputs": []
    },
    {
      "cell_type": "code",
      "source": [
        "len(dataset)"
      ],
      "metadata": {
        "colab": {
          "base_uri": "https://localhost:8080/"
        },
        "id": "tdKFoNP4qQkT",
        "outputId": "1d4339ea-84e5-49ea-a44a-989b8af7943f"
      },
      "execution_count": 21,
      "outputs": [
        {
          "output_type": "execute_result",
          "data": {
            "text/plain": [
              "10"
            ]
          },
          "metadata": {},
          "execution_count": 21
        }
      ]
    },
    {
      "cell_type": "code",
      "source": [
        "dataset[0]"
      ],
      "metadata": {
        "colab": {
          "base_uri": "https://localhost:8080/"
        },
        "id": "LasKSZ0CqYIz",
        "outputId": "f09725ec-49df-4e58-ed27-e45158d35efc"
      },
      "execution_count": 22,
      "outputs": [
        {
          "output_type": "execute_result",
          "data": {
            "text/plain": [
              "(tensor([ 1.0683, -0.9701]), tensor(1))"
            ]
          },
          "metadata": {},
          "execution_count": 22
        }
      ]
    },
    {
      "cell_type": "code",
      "source": [
        "dataloader = DataLoader(dataset,batch_size=2,shuffle=True)\n",
        "# Batch size tells you kitne rows chahiye."
      ],
      "metadata": {
        "id": "7c05zFMOqbEl"
      },
      "execution_count": 23,
      "outputs": []
    },
    {
      "cell_type": "code",
      "source": [
        "for batch_features,batch_label in dataloader:\n",
        "  print(batch_features)\n",
        "  print(batch_label)\n",
        "  print(\"-\"*50)"
      ],
      "metadata": {
        "colab": {
          "base_uri": "https://localhost:8080/"
        },
        "id": "Z0XC-8dBrDTp",
        "outputId": "083d14ce-e3d2-4417-a52d-5658112b8984"
      },
      "execution_count": 24,
      "outputs": [
        {
          "output_type": "stream",
          "name": "stdout",
          "text": [
            "tensor([[-0.7206, -0.9606],\n",
            "        [-1.9629, -0.9923]])\n",
            "tensor([0, 0])\n",
            "--------------------------------------------------\n",
            "tensor([[-0.9382, -0.5430],\n",
            "        [ 1.8997,  0.8344]])\n",
            "tensor([1, 1])\n",
            "--------------------------------------------------\n",
            "tensor([[ 1.7774,  1.5116],\n",
            "        [-0.5872, -1.9717]])\n",
            "tensor([1, 0])\n",
            "--------------------------------------------------\n",
            "tensor([[ 1.7273, -1.1858],\n",
            "        [-1.1402, -0.8388]])\n",
            "tensor([1, 0])\n",
            "--------------------------------------------------\n",
            "tensor([[-2.8954,  1.9769],\n",
            "        [ 1.0683, -0.9701]])\n",
            "tensor([0, 1])\n",
            "--------------------------------------------------\n"
          ]
        }
      ]
    },
    {
      "cell_type": "markdown",
      "source": [
        "## Improving the current code using Mini Batch Gradient Descent"
      ],
      "metadata": {
        "id": "EmFhFfPhrZ_A"
      }
    },
    {
      "cell_type": "code",
      "source": [
        "## This is for my own revision\n",
        "import torch.nn as nn\n",
        "\n",
        "\n",
        "class Model(nn.Module):\n",
        "\n",
        "  def __init__(self,num_features):\n",
        "\n",
        "    super().__init__()\n",
        "    self.linear = nn.Linear(num_features,1)\n",
        "    self.sigmoid = nn.Sigmoid()\n",
        "\n",
        "  def forward(self,features):\n",
        "    out = self.linear(features)\n",
        "    out = self.sigmoid(out)\n",
        "\n",
        "    return out\n",
        "\n"
      ],
      "metadata": {
        "id": "gVIFKSVWv69z"
      },
      "execution_count": 32,
      "outputs": []
    },
    {
      "cell_type": "code",
      "source": [
        "X.shape"
      ],
      "metadata": {
        "colab": {
          "base_uri": "https://localhost:8080/"
        },
        "id": "TwUMG8b808Mn",
        "outputId": "26cd4534-18b7-4335-aee9-6109a015597e"
      },
      "execution_count": 31,
      "outputs": [
        {
          "output_type": "execute_result",
          "data": {
            "text/plain": [
              "torch.Size([10, 2])"
            ]
          },
          "metadata": {},
          "execution_count": 31
        }
      ]
    },
    {
      "cell_type": "code",
      "source": [
        "batch_label"
      ],
      "metadata": {
        "colab": {
          "base_uri": "https://localhost:8080/"
        },
        "id": "8RusLasZ1KIR",
        "outputId": "30b5fcde-1375-4010-e445-62d04f48094f"
      },
      "execution_count": 38,
      "outputs": [
        {
          "output_type": "execute_result",
          "data": {
            "text/plain": [
              "tensor([ 1.0683, -0.9701])"
            ]
          },
          "metadata": {},
          "execution_count": 38
        }
      ]
    },
    {
      "cell_type": "code",
      "source": [
        "model = Model(X.shape[1])\n",
        "\n",
        "epochs = 25\n",
        "learning_rate = 0.1\n",
        "\n",
        "loss = nn.BCELoss()\n",
        "\n",
        "optimizer = torch.optim.SGD(model.parameters(),learning_rate)\n",
        "\n",
        "\n",
        "for epoch in range(epochs):\n",
        "\n",
        "  for batch_features,batch_label in dataloader:\n",
        "\n",
        "     outputs = model(batch_features)\n",
        "\n",
        "     loss_val = loss(outputs,(batch_label.to(torch.float32)).reshape(2,1))\n",
        "\n",
        "     optimizer.zero_grad()\n",
        "\n",
        "     loss_val.backward()\n",
        "\n",
        "     optimizer.step()\n",
        "\n",
        "     optimizer.zero_grad()\n",
        "\n",
        "\n",
        "\n",
        "\n",
        "\n",
        "\n"
      ],
      "metadata": {
        "id": "FusW4Et8wJma"
      },
      "execution_count": 41,
      "outputs": []
    },
    {
      "cell_type": "code",
      "source": [
        "model = Model(X.shape[1])\n",
        "\n",
        "model.eval() ## Set the model to a evaluation mode.\n",
        "\n",
        "with torch.no_grad():\n",
        "  y_pred = model(X)\n",
        "\n",
        "y_pred = ((y_pred>0.5).int())\n",
        "\n",
        "# from sklearn.metrics import accuracy_score\n",
        "# accuracy_score(y_pred,y)\n",
        "\n",
        "y_pred.reshape(1,10)\n"
      ],
      "metadata": {
        "colab": {
          "base_uri": "https://localhost:8080/"
        },
        "id": "-GX5O0Tt00HL",
        "outputId": "2ef834dc-2cdb-4b45-f123-f49e3c8c5925"
      },
      "execution_count": 49,
      "outputs": [
        {
          "output_type": "execute_result",
          "data": {
            "text/plain": [
              "tensor([[1, 0, 0, 0, 0, 0, 1, 1, 1, 0]], dtype=torch.int32)"
            ]
          },
          "metadata": {},
          "execution_count": 49
        }
      ]
    },
    {
      "cell_type": "code",
      "source": [
        "y"
      ],
      "metadata": {
        "colab": {
          "base_uri": "https://localhost:8080/"
        },
        "id": "p2JHWCvj2idT",
        "outputId": "dfc5c03f-0cef-4abb-d5e0-76b737d2ea2b"
      },
      "execution_count": 46,
      "outputs": [
        {
          "output_type": "execute_result",
          "data": {
            "text/plain": [
              "tensor([1, 0, 0, 0, 0, 1, 1, 1, 1, 0])"
            ]
          },
          "metadata": {},
          "execution_count": 46
        }
      ]
    },
    {
      "cell_type": "code",
      "source": [],
      "metadata": {
        "id": "PMDdm9zk3P_S"
      },
      "execution_count": null,
      "outputs": []
    }
  ]
}